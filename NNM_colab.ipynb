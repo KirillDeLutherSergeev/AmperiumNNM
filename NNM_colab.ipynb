{
  "cells": [
    {
      "cell_type": "code",
      "execution_count": null,
      "metadata": {
        "colab": {
          "base_uri": "https://localhost:8080/"
        },
        "id": "vubIFGphy-L5",
        "outputId": "76010a05-216e-4d82-d756-6dcaaff47b4f"
      },
      "outputs": [],
      "source": [
        "from google.colab import drive\n",
        "drive.mount('/content/drive')\n",
        "\n",
        "!cp '/content/drive/MyDrive/ML/TrainingSignalGuitarTX.wav' '/content/input.wav'\n",
        "!cp '/content/drive/MyDrive/ML/5153B_ReactIR/ToneX_5153B_ReactIR.wav' '/content/output.wav'"
      ]
    },
    {
      "cell_type": "code",
      "execution_count": null,
      "metadata": {
        "colab": {
          "base_uri": "https://localhost:8080/"
        },
        "id": "Lq3ad6icwrxG",
        "outputId": "622e8a76-ca6b-4704-d05e-f904dcc60c11"
      },
      "outputs": [],
      "source": [
        "!git clone https://github.com/KirillDeLutherSergeev/AmperiumNNM.git '/content/AmperiumNNM'\n",
        "\n",
        "%cd 'AmperiumNNM/'\n",
        "\n",
        "from AudioUtils import *\n",
        "from Training import *\n",
        "from ExportNNM import *\n",
        "import matplotlib.pyplot as plt"
      ]
    },
    {
      "cell_type": "code",
      "execution_count": null,
      "metadata": {
        "colab": {
          "base_uri": "https://localhost:8080/"
        },
        "id": "U22mDBe4jaf2",
        "outputId": "5db7d2a7-9cfa-45c7-bc22-b73c5041b6af"
      },
      "outputs": [],
      "source": [
        "# EDIT THIS SECTION FOR USER INPUTS\n",
        "#\n",
        "name = 'EVH5153B_V1'\n",
        "in_file = '/content/input.wav'\n",
        "out_file = '/content/output.wav'\n",
        "\n",
        "check_if_model_exists(name)\n",
        "\n",
        "x_all, y_all = load_audio_data(in_file, out_file, 5, 0, 2)\n",
        "\n",
        "x_train, y_train, x_test, y_test = prepare_dataset(x_all, y_all, numSteps = 2048, trainSize=0.8, overlap=256, batchSize=64)"
      ]
    },
    {
      "cell_type": "code",
      "execution_count": null,
      "metadata": {
        "colab": {
          "base_uri": "https://localhost:8080/"
        },
        "id": "pqdUDZngKVmT",
        "outputId": "6ecae69d-e3b7-4f2e-d19b-470d956daaa7"
      },
      "outputs": [],
      "source": [
        "model = build_model(True, True, True, loss='mae', learningRate=0.008, epsilon=1e-08)"
      ]
    },
    {
      "cell_type": "code",
      "execution_count": null,
      "metadata": {
        "colab": {
          "base_uri": "https://localhost:8080/"
        },
        "id": "i4Y5VG18O1Ug",
        "outputId": "0b6a03e1-f7dd-4b3e-cc05-8a46be39e6d3"
      },
      "outputs": [],
      "source": [
        "train_model(x_train, y_train, x_test, y_test, model, 8)\n",
        "\n",
        "export_model_to_nnm('models/'+name+'/'+name+'.nnm', 1, 0, model, 1)\n",
        "export_model_to_nnm('/content/drive/MyDrive/ML/5153B_ReactIR/EVH5153B_V2.nnm', 1, 0, model, 1)"
      ]
    }
  ],
  "metadata": {
    "accelerator": "GPU",
    "colab": {
      "provenance": []
    },
    "gpuClass": "standard",
    "kernelspec": {
      "display_name": "Python 3",
      "language": "python",
      "name": "python3"
    },
    "language_info": {
      "codemirror_mode": {
        "name": "ipython",
        "version": 3
      },
      "file_extension": ".py",
      "mimetype": "text/x-python",
      "name": "python",
      "nbconvert_exporter": "python",
      "pygments_lexer": "ipython3",
      "version": "3.7.7"
    }
  },
  "nbformat": 4,
  "nbformat_minor": 0
}
