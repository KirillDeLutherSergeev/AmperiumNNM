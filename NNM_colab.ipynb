{
  "cells": [
    {
      "cell_type": "code",
      "execution_count": null,
      "metadata": {
        "colab": {
          "base_uri": "https://localhost:8080/"
        },
        "id": "vubIFGphy-L5",
        "outputId": "5da6f2d0-ed97-4650-bb34-f375a00bce97"
      },
      "outputs": [],
      "source": [
        "from google.colab import drive\n",
        "drive.mount('/content/drive')"
      ]
    },
    {
      "cell_type": "code",
      "execution_count": null,
      "metadata": {},
      "outputs": [],
      "source": [
        "!pip install git+https://github.com/KirillDeLutherSergeev/AmperiumNNM@main"
      ]
    },
    {
      "cell_type": "code",
      "execution_count": null,
      "metadata": {
        "colab": {
          "base_uri": "https://localhost:8080/"
        },
        "id": "U22mDBe4jaf2",
        "outputId": "a45fd923-4aa5-4145-a54a-12a4d7270337"
      },
      "outputs": [],
      "source": [
        "# EDIT THIS SECTION FOR USER INPUTS\n",
        "#\n",
        "name = '1959HW_V1-4_V2-2'\n",
        "in_file = '/content/drive/MyDrive/ML/NAM_1959HW/v1_1_1.wav'\n",
        "out_file = '/content/drive/MyDrive/ML/NAM_1959HW/output/1959HW_V1-4_V2-2.wav'\n",
        "\n",
        "if not os.path.exists('models/'+name):\n",
        "    os.makedirs('models/'+name)\n",
        "else:\n",
        "    print(\"A model with the same name already exists. Please choose a new name.\")\n",
        "    exit\n",
        "\n",
        "# Load and Preprocess Data ###########################################\n",
        "in_rate, in_data = wavfile.read(in_file)\n",
        "out_rate, out_data = wavfile.read(out_file)\n",
        "\n",
        "#offset = 5 * in_rate\n",
        "offset = 56228\n",
        "x_all = in_data.astype(np.float32).flatten()\n",
        "x_all = x_all[offset:]  \n",
        "x_all = normalize(x_all).reshape(len(x_all),1)   \n",
        "y_all = out_data.astype(np.float32).flatten() \n",
        "#y_all = y_all[offset-2:]\n",
        "y_all = y_all[offset:]\n",
        "y_all = normalize(y_all).reshape(len(y_all),1)    "
      ]
    },
    {
      "cell_type": "code",
      "execution_count": null,
      "metadata": {
        "colab": {
          "base_uri": "https://localhost:8080/"
        },
        "id": "pqdUDZngKVmT",
        "outputId": "8ef1e3fa-4106-4322-c81c-3e5b20715bed"
      },
      "outputs": [],
      "source": [
        "train_size = 0.8\n",
        "\n",
        "epochs = 8\n",
        "num_steps = 2048\n",
        "overlap = 256\n",
        "batch_size = 64 \n",
        "learning_rate = 0.008\n",
        "epsilon = 1.e-08\n",
        "hidden_units = 16\n",
        "\n",
        "# Create Sequential Model ###########################################\n",
        "clear_session()\n",
        "\n",
        "model = Sequential()\n",
        "\n",
        "model.add(InputLayer(input_shape=(None, 1)))\n",
        "\n",
        "useD1 = True\n",
        "useC1 = True\n",
        "useC2 = True\n",
        "\n",
        "if useD1:\n",
        "  model.add(Dense(units=1, use_bias=False,\n",
        "    kernel_initializer=tf.keras.initializers.GlorotUniform(seed=None),\n",
        "    bias_initializer='zeros',\n",
        "    activation='tanh',\n",
        "    name='D1'))\n",
        "\n",
        "if useC2:\n",
        "  conv_init = np.zeros(128)\n",
        "  conv_init[0] = 1.0\n",
        "  model.add(Conv1D(filters=1, kernel_size=128,\n",
        "    padding='causal',\n",
        "    bias_initializer='zeros',\n",
        "    kernel_initializer=tf.constant_initializer(conv_init),\n",
        "    use_bias=False,\n",
        "    name='C1'))\n",
        "\n",
        "model.add(LSTM(name='L', units=hidden_units,\n",
        "  stateful=False,\n",
        "  bias_initializer='zeros',\n",
        "  kernel_initializer=tf.keras.initializers.GlorotUniform(seed=None),\n",
        "  recurrent_initializer=tf.keras.initializers.Orthogonal(seed=None),\n",
        "  return_sequences=True))\n",
        "\n",
        "model.add(Dense(units=1,\n",
        "  kernel_initializer=tf.keras.initializers.GlorotUniform(seed=None),\n",
        "  bias_initializer='zeros',\n",
        "  name='D2'))\n",
        "\n",
        "if useC2:\n",
        "  conv_init = np.zeros(2048)\n",
        "  conv_init[0] = 1.0\n",
        "  model.add(Conv1D(filters=1, kernel_size=2048,\n",
        "    padding='causal',\n",
        "    bias_initializer='zeros',\n",
        "    kernel_initializer=tf.constant_initializer(conv_init),\n",
        "    use_bias=False,\n",
        "    name='C2'))\n",
        "\n",
        "#model.compile(optimizer=Adam(learning_rate=learning_rate, epsilon=epsilon), loss=error_to_signal, metrics='mse')\n",
        "#model.compile(optimizer=Adam(learning_rate=learning_rate, epsilon=epsilon), loss=esr_loss_with_frequency, metrics='mse')\n",
        "#model.compile(optimizer=Adam(learning_rate=learning_rate, epsilon=epsilon), loss=esr_loss, metrics='mse')\n",
        "model.compile(optimizer=Adam(learning_rate=learning_rate, epsilon=epsilon), loss='mae', metrics='mse')\n",
        "#model.build()\n",
        "model.summary()"
      ]
    },
    {
      "cell_type": "code",
      "execution_count": null,
      "metadata": {
        "id": "AyAdGPFRPMsj"
      },
      "outputs": [],
      "source": [
        "x_train, y_train, x_test, y_test = partition_data(x_all,y_all,num_steps,train_size,overlap)\n",
        "\n",
        "train_observations = int(x_train.shape[0] / batch_size) * batch_size\n",
        "test_observations = int(x_test.shape[0] / batch_size) * batch_size\n",
        "x_train = x_train[:train_observations]\n",
        "y_train = y_train[:train_observations]\n",
        "x_test = x_test[:test_observations]\n",
        "y_test = y_test[:test_observations]\n",
        "x_train = x_train.reshape(x_train.shape[0], x_train.shape[1], 1)\n",
        "y_train = y_train.reshape(y_train.shape[0], y_train.shape[1], 1)\n",
        "x_test = x_test.reshape(x_test.shape[0], x_test.shape[1], 1)\n",
        "y_test = y_test.reshape(y_test.shape[0], y_test.shape[1], 1)"
      ]
    },
    {
      "cell_type": "code",
      "execution_count": null,
      "metadata": {
        "colab": {
          "base_uri": "https://localhost:8080/"
        },
        "id": "WYTR3KfpPoPC",
        "outputId": "9a0fcd8a-f231-4d7c-eaff-2f01c6fc6d70"
      },
      "outputs": [],
      "source": [
        "def scheduler(epoch, lr):\n",
        "    if 0 < epoch < 12:\n",
        "        return lr * 0.95\n",
        "    return lr\n",
        "\n",
        "scheduler_clbk = tf.keras.callbacks.LearningRateScheduler(scheduler)\n",
        "plateu_clbk = tf.keras.callbacks.ReduceLROnPlateau(monitor='val_loss', factor=0.2, patience=5, min_lr=0.001)\n",
        "earlystop_clbk = tf.keras.callbacks.EarlyStopping(monitor='loss', patience=3)\n",
        "\n",
        "history = model.fit(x=x_train,y=y_train, validation_data=(x_test, y_test), epochs=epochs, callbacks=[scheduler_clbk, plateu_clbk, earlystop_clbk], shuffle=True)\n",
        "\n",
        "model.save('/content/drive/MyDrive/ML/NAM_1959HW/output/'+name+'/'+name+'.h5')\n",
        "model.save('/content/drive/MyDrive/ML/NAM_1959HW/output/'+name+'/'+name+'_data.h5',include_optimizer=False)"
      ]
    },
    {
      "cell_type": "code",
      "execution_count": null,
      "metadata": {
        "id": "ACyNNH-Hqqy7"
      },
      "outputs": [],
      "source": [
        "model.save('models/'+name+'/'+name+'.h5')\n",
        "\n",
        "# Run Prediction #################################################\n",
        "print(\"Running prediction..\")\n",
        "\n",
        "y_the_rest, y_last_part = np.split(y_all, [int(len(y_all)*train_size)])\n",
        "x_the_rest, x_last_part = np.split(x_all, [int(len(x_all)*train_size)])\n",
        "\n",
        "prediction = model.predict(x_last_part)\n",
        "\n",
        "save_wav('models/'+name+'/y_pred.wav', prediction)\n",
        "save_wav('models/'+name+'/x_test.wav', x_last_part)\n",
        "save_wav('models/'+name+'/y_test.wav', y_last_part)"
      ]
    },
    {
      "cell_type": "code",
      "execution_count": null,
      "metadata": {
        "colab": {
          "base_uri": "https://localhost:8080/"
        },
        "id": "wlSNw6i5VVwc",
        "outputId": "8d9a239d-fd4f-4009-918b-3f857db34ec5"
      },
      "outputs": [],
      "source": [
        "model = tf.keras.models.load_model('/content/drive/MyDrive/ML/NAM_1959HW/output/test/test_data.h5')"
      ]
    },
    {
      "cell_type": "code",
      "execution_count": null,
      "metadata": {
        "colab": {
          "base_uri": "https://localhost:8080/"
        },
        "id": "QkIX9zguYm_t",
        "outputId": "0cfe1c69-3068-4e94-8fb5-86f74a7b1de8"
      },
      "outputs": [],
      "source": [
        "save_wav('models/'+name+'/y_train.wav', y_last_part)"
      ]
    },
    {
      "cell_type": "code",
      "execution_count": null,
      "metadata": {
        "colab": {
          "base_uri": "https://localhost:8080/",
          "height": 282
        },
        "id": "cFYwyjJkNK6B",
        "outputId": "4670f6cd-948f-4a88-e7d2-f23f5730efd4"
      },
      "outputs": [],
      "source": [
        "plt.plot(y_train[0].flatten())"
      ]
    },
    {
      "cell_type": "code",
      "execution_count": null,
      "metadata": {
        "colab": {
          "base_uri": "https://localhost:8080/"
        },
        "id": "2IoicWff3Y1F",
        "outputId": "971ed846-4800-4cba-c51d-5a15ddefd730"
      },
      "outputs": [],
      "source": [
        "clear_session()\n",
        "model = tf.keras.models.load_model('models/my_model.h5')"
      ]
    },
    {
      "cell_type": "code",
      "execution_count": null,
      "metadata": {
        "id": "sKdw9CUIRWJq"
      },
      "outputs": [],
      "source": [
        "reload(ExportNNM)\n",
        "from ExportNNM import *\n",
        "\n",
        "export_model_to_nnm('/content/drive/MyDrive/ML/NAM_1959HW/output/'+name+'/'+name+'.nnm',1,0,model,1)\n",
        "export_model_to_nnm('models/'+name+'/'+name+'.nnm',1,0,model,1)"
      ]
    },
    {
      "cell_type": "code",
      "execution_count": null,
      "metadata": {
        "colab": {
          "base_uri": "https://localhost:8080/",
          "height": 442
        },
        "id": "EVhYN-gjYV3e",
        "outputId": "58de4ac8-2ccb-4ce6-9a68-f0a2dd3a5139"
      },
      "outputs": [],
      "source": [
        "c1 = model.layers[0].get_weights()[0].flatten()\n",
        "\n",
        "fig, axs = plt.subplots(nrows=2, ncols=1, figsize=(7, 7))\n",
        "axs[0].plot(c1);\n",
        "axs[1].magnitude_spectrum(c1, in_rate, scale='dB');"
      ]
    },
    {
      "cell_type": "code",
      "execution_count": null,
      "metadata": {
        "colab": {
          "base_uri": "https://localhost:8080/",
          "height": 265
        },
        "id": "IZ4qi-SHPDDx",
        "outputId": "34daf27f-60ac-4b92-b5c4-a588a985bbd0"
      },
      "outputs": [],
      "source": [
        "plt.plot(c1);"
      ]
    },
    {
      "cell_type": "code",
      "execution_count": null,
      "metadata": {
        "colab": {
          "base_uri": "https://localhost:8080/",
          "height": 300
        },
        "id": "MIHOFOvQbki0",
        "outputId": "c0734111-b60b-4d54-a6c6-3d4abf0a2243"
      },
      "outputs": [],
      "source": [
        "plt.plot(MPT(c1));"
      ]
    }
  ],
  "metadata": {
    "accelerator": "GPU",
    "colab": {
      "provenance": []
    },
    "gpuClass": "standard",
    "kernelspec": {
      "display_name": "Python 3",
      "language": "python",
      "name": "python3"
    },
    "language_info": {
      "codemirror_mode": {
        "name": "ipython",
        "version": 3
      },
      "file_extension": ".py",
      "mimetype": "text/x-python",
      "name": "python",
      "nbconvert_exporter": "python",
      "pygments_lexer": "ipython3",
      "version": "3.7.7"
    }
  },
  "nbformat": 4,
  "nbformat_minor": 0
}
