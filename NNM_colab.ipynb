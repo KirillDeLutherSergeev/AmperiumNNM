{
  "cells": [
    {
      "cell_type": "code",
      "execution_count": null,
      "metadata": {
        "colab": {
          "base_uri": "https://localhost:8080/"
        },
        "id": "vubIFGphy-L5",
        "outputId": "5da6f2d0-ed97-4650-bb34-f375a00bce97"
      },
      "outputs": [],
      "source": [
        "from google.colab import drive\n",
        "drive.mount('/content/drive')"
      ]
    },
    {
      "cell_type": "code",
      "execution_count": null,
      "metadata": {},
      "outputs": [],
      "source": [
        "!pip install git+https://github.com/KirillDeLutherSergeev/AmperiumNNM@main\n",
        "\n",
        "import Imports"
      ]
    },
    {
      "cell_type": "code",
      "execution_count": null,
      "metadata": {
        "colab": {
          "base_uri": "https://localhost:8080/"
        },
        "id": "U22mDBe4jaf2",
        "outputId": "a45fd923-4aa5-4145-a54a-12a4d7270337"
      },
      "outputs": [],
      "source": [
        "# EDIT THIS SECTION FOR USER INPUTS\n",
        "#\n",
        "name = '1959HW_V1-4_V2-2'\n",
        "in_file = '/content/drive/MyDrive/ML/NAM_1959HW/v1_1_1.wav'\n",
        "out_file = '/content/drive/MyDrive/ML/NAM_1959HW/output/1959HW_V1-4_V2-2.wav'\n",
        "\n",
        "check_if_model_exists(name)\n",
        "\n",
        "x_all, y_all=load_audio_data(in_file, out_file, 0, 56228, 2, False)"
      ]
    },
    {
      "cell_type": "code",
      "execution_count": null,
      "metadata": {
        "colab": {
          "base_uri": "https://localhost:8080/"
        },
        "id": "pqdUDZngKVmT",
        "outputId": "8ef1e3fa-4106-4322-c81c-3e5b20715bed"
      },
      "outputs": [],
      "source": [
        "train_size = 0.8\n",
        "\n",
        "epochs = 8\n",
        "num_steps = 2048\n",
        "overlap = 256\n",
        "batch_size = 64 \n",
        "learning_rate = 0.008\n",
        "epsilon = 1.e-08\n",
        "hidden_units = 16\n",
        "\n",
        "model = build_model()\n",
        "!python Training\n",
        "model.save('/content/drive/MyDrive/ML/NAM_1959HW/output/'+name+'/'+name+'_data.h5',include_optimizer=False)"
      ]
    },
    {
      "cell_type": "code",
      "execution_count": null,
      "metadata": {
        "colab": {
          "base_uri": "https://localhost:8080/"
        },
        "id": "wlSNw6i5VVwc",
        "outputId": "8d9a239d-fd4f-4009-918b-3f857db34ec5"
      },
      "outputs": [],
      "source": [
        "model = tf.keras.models.load_model('/content/drive/MyDrive/ML/NAM_1959HW/output/test/test_data.h5')"
      ]
    },
    {
      "cell_type": "code",
      "execution_count": null,
      "metadata": {
        "id": "sKdw9CUIRWJq"
      },
      "outputs": [],
      "source": [
        "reload(ExportNNM)\n",
        "from ExportNNM import *\n",
        "\n",
        "export_model_to_nnm('/content/drive/MyDrive/ML/NAM_1959HW/output/'+name+'/'+name+'.nnm',1,0,model,1)\n",
        "export_model_to_nnm('models/'+name+'/'+name+'.nnm',1,0,model,1)"
      ]
    },
    {
      "cell_type": "code",
      "execution_count": null,
      "metadata": {
        "colab": {
          "base_uri": "https://localhost:8080/",
          "height": 442
        },
        "id": "EVhYN-gjYV3e",
        "outputId": "58de4ac8-2ccb-4ce6-9a68-f0a2dd3a5139"
      },
      "outputs": [],
      "source": [
        "c1 = model.layers[0].get_weights()[0].flatten()\n",
        "\n",
        "fig, axs = plt.subplots(nrows=2, ncols=1, figsize=(7, 7))\n",
        "axs[0].plot(c1);\n",
        "axs[1].magnitude_spectrum(c1, in_rate, scale='dB');"
      ]
    },
    {
      "cell_type": "code",
      "execution_count": null,
      "metadata": {
        "colab": {
          "base_uri": "https://localhost:8080/",
          "height": 265
        },
        "id": "IZ4qi-SHPDDx",
        "outputId": "34daf27f-60ac-4b92-b5c4-a588a985bbd0"
      },
      "outputs": [],
      "source": [
        "plt.plot(c1);"
      ]
    },
    {
      "cell_type": "code",
      "execution_count": null,
      "metadata": {
        "colab": {
          "base_uri": "https://localhost:8080/",
          "height": 300
        },
        "id": "MIHOFOvQbki0",
        "outputId": "c0734111-b60b-4d54-a6c6-3d4abf0a2243"
      },
      "outputs": [],
      "source": [
        "plt.plot(MPT(c1));"
      ]
    }
  ],
  "metadata": {
    "accelerator": "GPU",
    "colab": {
      "provenance": []
    },
    "gpuClass": "standard",
    "kernelspec": {
      "display_name": "Python 3",
      "language": "python",
      "name": "python3"
    },
    "language_info": {
      "codemirror_mode": {
        "name": "ipython",
        "version": 3
      },
      "file_extension": ".py",
      "mimetype": "text/x-python",
      "name": "python",
      "nbconvert_exporter": "python",
      "pygments_lexer": "ipython3",
      "version": "3.7.7"
    }
  },
  "nbformat": 4,
  "nbformat_minor": 0
}
