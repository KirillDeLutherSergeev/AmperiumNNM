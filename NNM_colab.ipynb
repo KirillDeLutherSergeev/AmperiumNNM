{
  "cells": [
    {
      "cell_type": "code",
      "execution_count": 1,
      "metadata": {
        "id": "vubIFGphy-L5",
        "colab": {
          "base_uri": "https://localhost:8080/"
        },
        "outputId": "76010a05-216e-4d82-d756-6dcaaff47b4f"
      },
      "outputs": [
        {
          "output_type": "stream",
          "name": "stdout",
          "text": [
            "Mounted at /content/drive\n"
          ]
        }
      ],
      "source": [
        "from google.colab import drive\n",
        "drive.mount('/content/drive')\n",
        "\n",
        "!cp '/content/drive/MyDrive/ML/TrainingSignalGuitarTX.wav' '/content/input.wav'\n",
        "!cp '/content/drive/MyDrive/ML/5153B_ReactIR/ToneX_5153B_ReactIR.wav' '/content/output.wav'"
      ]
    },
    {
      "cell_type": "code",
      "execution_count": 2,
      "metadata": {
        "id": "Lq3ad6icwrxG",
        "colab": {
          "base_uri": "https://localhost:8080/"
        },
        "outputId": "622e8a76-ca6b-4704-d05e-f904dcc60c11"
      },
      "outputs": [
        {
          "output_type": "stream",
          "name": "stdout",
          "text": [
            "Cloning into '/content/AmperiumNNM'...\n",
            "remote: Enumerating objects: 88, done.\u001b[K\n",
            "remote: Counting objects: 100% (88/88), done.\u001b[K\n",
            "remote: Compressing objects: 100% (86/86), done.\u001b[K\n",
            "remote: Total 88 (delta 48), reused 0 (delta 0), pack-reused 0\u001b[K\n",
            "Unpacking objects: 100% (88/88), 88.58 KiB | 2.86 MiB/s, done.\n",
            "/content/AmperiumNNM\n"
          ]
        }
      ],
      "source": [
        "!git clone https://github.com/KirillDeLutherSergeev/AmperiumNNM.git '/content/AmperiumNNM'\n",
        "\n",
        "%cd 'AmperiumNNM/'\n",
        "\n",
        "from AudioUtils import *\n",
        "from Training import *\n",
        "from ExportNNM import *\n",
        "import matplotlib.pyplot as plt"
      ]
    },
    {
      "cell_type": "code",
      "execution_count": 3,
      "metadata": {
        "id": "U22mDBe4jaf2",
        "colab": {
          "base_uri": "https://localhost:8080/"
        },
        "outputId": "5db7d2a7-9cfa-45c7-bc22-b73c5041b6af"
      },
      "outputs": [
        {
          "output_type": "stream",
          "name": "stderr",
          "text": [
            "/content/AmperiumNNM/AudioUtils.py:44: WavFileWarning: Chunk (non-data) not understood, skipping it.\n",
            "  out_rate, out_data = wavfile.read(outFile)\n"
          ]
        }
      ],
      "source": [
        "# EDIT THIS SECTION FOR USER INPUTS\n",
        "#\n",
        "name = 'EVH5153B_V1'\n",
        "in_file = '/content/input.wav'\n",
        "out_file = '/content/output.wav'\n",
        "\n",
        "check_if_model_exists(name)\n",
        "\n",
        "x_all, y_all = load_audio_data(in_file, out_file, 5, 0, 2)\n",
        "\n",
        "x_train, y_train, x_test, y_test = prepare_dataset(x_all, y_all, numSteps = 2048, trainSize=0.8, overlap=256, batchSize=64)"
      ]
    },
    {
      "cell_type": "code",
      "execution_count": 6,
      "metadata": {
        "id": "pqdUDZngKVmT",
        "colab": {
          "base_uri": "https://localhost:8080/"
        },
        "outputId": "6ecae69d-e3b7-4f2e-d19b-470d956daaa7"
      },
      "outputs": [
        {
          "output_type": "stream",
          "name": "stdout",
          "text": [
            "Model: \"sequential\"\n",
            "_________________________________________________________________\n",
            " Layer (type)                Output Shape              Param #   \n",
            "=================================================================\n",
            " C1 (Conv1D)                 (None, None, 1)           128       \n",
            "                                                                 \n",
            " L (LSTM)                    (None, None, 16)          1152      \n",
            "                                                                 \n",
            " D2 (Dense)                  (None, None, 1)           17        \n",
            "                                                                 \n",
            "=================================================================\n",
            "Total params: 1,297\n",
            "Trainable params: 1,297\n",
            "Non-trainable params: 0\n",
            "_________________________________________________________________\n"
          ]
        }
      ],
      "source": [
        "model = build_model(False, True, False, loss='mae', learningRate=0.008, epsilon=1e-08)"
      ]
    },
    {
      "cell_type": "code",
      "source": [
        "train_model(x_train, y_train, x_test, y_test, model, 8)\n",
        "\n",
        "export_model_to_nnm('models/'+name+'/'+name+'.nnm', 1, 0, model, 1)\n",
        "export_model_to_nnm('/content/drive/MyDrive/ML/5153B_ReactIR/EVH5153B_V2.nnm', 1, 0, model, 1)"
      ],
      "metadata": {
        "colab": {
          "base_uri": "https://localhost:8080/"
        },
        "id": "i4Y5VG18O1Ug",
        "outputId": "0b6a03e1-f7dd-4b3e-cc05-8a46be39e6d3"
      },
      "execution_count": 7,
      "outputs": [
        {
          "output_type": "stream",
          "name": "stdout",
          "text": [
            "Epoch 1/8\n",
            "1176/1176 [==============================] - 57s 47ms/step - loss: 0.0553 - mse: 0.0074 - val_loss: 0.0572 - val_mse: 0.0076 - lr: 0.0080\n",
            "Epoch 2/8\n",
            "1176/1176 [==============================] - 59s 50ms/step - loss: 0.0327 - mse: 0.0032 - val_loss: 0.0345 - val_mse: 0.0039 - lr: 0.0076\n",
            "Epoch 3/8\n",
            "1176/1176 [==============================] - 54s 46ms/step - loss: 0.0234 - mse: 0.0021 - val_loss: 0.0263 - val_mse: 0.0026 - lr: 0.0072\n",
            "Epoch 4/8\n",
            "1176/1176 [==============================] - 54s 46ms/step - loss: 0.0196 - mse: 0.0016 - val_loss: 0.0234 - val_mse: 0.0023 - lr: 0.0069\n",
            "Epoch 5/8\n",
            "1176/1176 [==============================] - 56s 47ms/step - loss: 0.0181 - mse: 0.0014 - val_loss: 0.0219 - val_mse: 0.0020 - lr: 0.0065\n",
            "Epoch 6/8\n",
            "1176/1176 [==============================] - 55s 47ms/step - loss: 0.0175 - mse: 0.0013 - val_loss: 0.0220 - val_mse: 0.0020 - lr: 0.0062\n",
            "Epoch 7/8\n",
            "1176/1176 [==============================] - 56s 47ms/step - loss: 0.0170 - mse: 0.0013 - val_loss: 0.0220 - val_mse: 0.0020 - lr: 0.0059\n",
            "Epoch 8/8\n",
            "1176/1176 [==============================] - 56s 47ms/step - loss: 0.0165 - mse: 0.0012 - val_loss: 0.0210 - val_mse: 0.0019 - lr: 0.0056\n"
          ]
        },
        {
          "output_type": "stream",
          "name": "stderr",
          "text": [
            "/content/AmperiumNNM/ExportNNM.py:64: ComplexWarning: Casting complex values to real discards the imaginary part\n",
            "  nnm[1152+32+17+3:1152+32+17+3+128] = MPT(c1)\n"
          ]
        }
      ]
    }
  ],
  "metadata": {
    "accelerator": "GPU",
    "colab": {
      "provenance": []
    },
    "gpuClass": "standard",
    "kernelspec": {
      "display_name": "Python 3",
      "language": "python",
      "name": "python3"
    },
    "language_info": {
      "codemirror_mode": {
        "name": "ipython",
        "version": 3
      },
      "file_extension": ".py",
      "mimetype": "text/x-python",
      "name": "python",
      "nbconvert_exporter": "python",
      "pygments_lexer": "ipython3",
      "version": "3.7.7"
    }
  },
  "nbformat": 4,
  "nbformat_minor": 0
}