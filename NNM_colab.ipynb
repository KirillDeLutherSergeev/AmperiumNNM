{
  "cells": [
    {
      "attachments": {},
      "cell_type": "markdown",
      "metadata": {
        "id": "TC3XkMetGWtK"
      },
      "source": [
        "# AMPERIUM NNM (Trainer)\n",
        "This notebook allows you to train a neural amp model based on a pair of input/output WAV files that you have of the amp you want to model. Amp + Cab and only Amp supported.\n",
        "\n",
        "**To use this notebook**:\n",
        "Go to [colab.research.google.com](https://colab.research.google.com/), select the \"GitHub\" tab, and select this notebook.\n",
        "\n",
        "🔶**Before you run**🔶\n",
        "\n",
        "Make sure to get a GPU! (Runtime->Change runtime type->Select \"GPU\" from the \"Hardware accelerator dropdown menu)\n",
        "\n",
        "⚠**Warning**⚠\n",
        "\n",
        "Google Colab GPU instances only last for 12 hours.\n",
        "Plan your training accordingly!\n",
        "\n",
        "## Steps:\n",
        "1. Install everything\n",
        "2. Upload audio files\n",
        "3. Settings\n",
        "4. Run & Export\n",
        "5. Download your files"
      ]
    },
    {
      "attachments": {},
      "cell_type": "markdown",
      "metadata": {
        "id": "2g_4GtFuGlO8"
      },
      "source": [
        "## Step 1: Install\n",
        "Install `AmperiumNNM` and the other Python packages it depends on."
      ]
    },
    {
      "cell_type": "code",
      "execution_count": null,
      "metadata": {
        "id": "Lq3ad6icwrxG"
      },
      "outputs": [],
      "source": [
        "!git clone https://github.com/KirillDeLutherSergeev/AmperiumNNM.git '/content/AmperiumNNM'\n",
        "\n",
        "%cd 'AmperiumNNM/'\n",
        "\n",
        "from AudioUtils import *\n",
        "from Training import *\n",
        "from ExportNNM import *\n",
        "import matplotlib.pyplot as plt\n",
        "import os"
      ]
    },
    {
      "attachments": {},
      "cell_type": "markdown",
      "metadata": {
        "id": "5CQleTk7GJV8"
      },
      "source": [
        "## Step 2: Upload audio files\n",
        "### Step 2A\n",
        "Upload the input (DI) and output (reamped) files you want to use as input.wav and output.wav."
      ]
    },
    {
      "attachments": {},
      "cell_type": "markdown",
      "metadata": {
        "id": "9uIzUVnuTEtj"
      },
      "source": [
        "### Step 2B\n",
        "Or copy files from your google drive to /content folder."
      ]
    },
    {
      "cell_type": "code",
      "execution_count": null,
      "metadata": {
        "id": "vubIFGphy-L5"
      },
      "outputs": [],
      "source": [
        "from google.colab import drive\n",
        "drive.mount('/content/drive')\n",
        "\n",
        "!cp '/content/drive/MyDrive/ML/TrainingSignalGuitarTX.wav' '/content/input.wav'\n",
        "!cp '/content/drive/MyDrive/ML/5153B_ReactIR/ToneX_5153B_ReactIR.wav' '/content/output.wav'"
      ]
    },
    {
      "attachments": {},
      "cell_type": "markdown",
      "metadata": {
        "id": "_4NiczbCTXg_"
      },
      "source": [
        "## Step 3: Settings"
      ]
    },
    {
      "cell_type": "code",
      "execution_count": null,
      "metadata": {
        "id": "-of4kmh0clyt"
      },
      "outputs": [],
      "source": [
        "#@title Settings { display-mode: \"form\" }\n",
        "\n",
        "#@markdown NNM file name\n",
        "name = \"EVH5153B_V1\" #@param {type:\"string\"}\n",
        "#@markdown Amp description\n",
        "ampName = \"EVH 5150III 50 Blue channel\" #@param {type:\"string\"}\n",
        "#@markdown Cab description\n",
        "cabName = \"None\" #@param {type:\"string\"}\n",
        "#@markdown Model type\n",
        "modelType = \"Amp + Cab\" #@param [\"Amp + Cab\", \"Amp\"]\n",
        "\n",
        "#@markdown Start offset in seconds, set to 0 to use offset in samples\n",
        "offsetSeconds = 5 #@param {type:\"number\"}\n",
        "#@markdown Start offset in samples\n",
        "offsetSamples = 0 #@param {type:\"number\"}\n",
        "#@markdown Output to input delay\n",
        "delaySamples = 2 #@param {type:\"number\"}\n",
        "\n",
        "#@markdown Training parameters\n",
        "learningRate = 0.008 #@param {type:\"number\"}\n",
        "epsilon = 1e-08 #@param {type:\"number\"}\n",
        "epochs = 8 #@param {type:\"integer\"}\n",
        "lossType = \"mse\" #@param [\"mae\", \"mse\"]\n",
        "\n",
        "#@markdown Dataset parameters\n",
        "trainSize = 0.8 #@param {type:\"number\"}\n",
        "\n",
        "numSteps = 2048 #@param {type:\"integer\"}\n",
        "overlap = 256 #@param {type:\"integer\"}\n",
        "batchSize = 64 #@param {type:\"integer\"}\n",
        "\n",
        "in_file = '/content/input.wav'\n",
        "out_file = '/content/output.wav'\n",
        "\n",
        "x_all, y_all = load_audio_data(in_file, out_file, offsetSeconds, offsetSamples, delaySamples)\n",
        "\n",
        "x_train, y_train, x_test, y_test = prepare_dataset(x_all, y_all, numSteps=numSteps, trainSize=trainSize, overlap=overlap, batchSize=batchSize)\n",
        "\n",
        "if modelType != \"Amp\":\n",
        "  model = build_model(True, True, True, loss=lossType, learningRate=learningRate, epsilon=epsilon)\n",
        "  modelTypeID = 10\n",
        "else:\n",
        "  model = build_model(False, True, False, loss=lossType, learningRate=learningRate, epsilon=epsilon)\n",
        "  modelTypeID = 1"
      ]
    },
    {
      "attachments": {},
      "cell_type": "markdown",
      "metadata": {
        "id": "459VxphImBF0"
      },
      "source": [
        "## Step 4: Run & Export"
      ]
    },
    {
      "cell_type": "code",
      "execution_count": null,
      "metadata": {
        "id": "i4Y5VG18O1Ug"
      },
      "outputs": [],
      "source": [
        "train_model(x_train, y_train, x_test, y_test, model, epochs)\n",
        "\n",
        "export_model_to_nnm('/content/'+name+'.nnm', 1, 0, model, modelTypeID, ampName, cabName)\n",
        "\n",
        "if os.path.exists('/content/drive/'):\n",
        "    export_model_to_nnm('/content/drive/MyDrive/ML/5153B_ReactIR/'+name+'.nnm', 1, 0, model, modelTypeID, ampName, cabName)"
      ]
    }
  ],
  "metadata": {
    "accelerator": "GPU",
    "colab": {
      "provenance": []
    },
    "gpuClass": "standard",
    "kernelspec": {
      "display_name": "Python 3",
      "language": "python",
      "name": "python3"
    },
    "language_info": {
      "codemirror_mode": {
        "name": "ipython",
        "version": 3
      },
      "file_extension": ".py",
      "mimetype": "text/x-python",
      "name": "python",
      "nbconvert_exporter": "python",
      "pygments_lexer": "ipython3",
      "version": "3.7.7"
    }
  },
  "nbformat": 4,
  "nbformat_minor": 0
}
